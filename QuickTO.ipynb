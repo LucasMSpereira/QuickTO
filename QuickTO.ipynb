{
  "cells": [
    {
      "cell_type": "markdown",
      "metadata": {
        "id": "tQ1r1bbb0yBv"
      },
      "source": [
        "### Instructions\n",
        "1. Click on cell with 'versioninfo()' command and press Ctrl + F8\n",
        "2. Reload page when its done running the cells\n",
        "3. Click on cell with 'versioninfo()' command again and press Ctrl + F10 to run it and all remaining cells\n",
        "\n",
        "_Notes_:\n",
        "* If your Colab Runtime gets reset (e.g., due to inactivity), repeat steps 1 and 2.\n",
        "* After installation, if you want to change the Julia version or activate/deactivate the GPU, you will need to reset the Runtime.\n",
        "* Changes in files from the repository must be done locally through VScode. The change is then commited and synced. Afterwards, the cell \"Update repository\" must be ran"
      ]
    },
    {
      "cell_type": "markdown",
      "source": [
        "Get dataset (~30 min)"
      ],
      "metadata": {
        "id": "8JjfLFDTBEv5"
      }
    },
    {
      "cell_type": "code",
      "source": [
        "%%shell\n",
        "rm -r sample_data\n",
        "URL=\"https://zenodo.org/record/8191138/files/datasets.zip?download=1\"\n",
        "wget -nv $URL -O /tmp/datasets.zip\n",
        "sudo apt-get install unzip\n",
        "unzip /tmp/datasets.zip -d /content\n",
        "rm /tmp/datasets.zip"
      ],
      "metadata": {
        "id": "xnw8ZWHwynIw"
      },
      "execution_count": null,
      "outputs": []
    },
    {
      "cell_type": "markdown",
      "metadata": {
        "id": "09eqgH9qFjyh"
      },
      "source": [
        "### Install Julia"
      ]
    },
    {
      "cell_type": "code",
      "execution_count": null,
      "metadata": {
        "id": "GIeFXS0F0zww"
      },
      "outputs": [],
      "source": [
        "%%shell\n",
        "set -e\n",
        "\n",
        "#---------------------------------------------------#\n",
        "JULIA_VERSION=\"1.9.0\" # any version ≥ 0.7.0\n",
        "JULIA_PACKAGES=\"IJulia\"\n",
        "JULIA_PACKAGES_IF_GPU=\"CUDA\" # or CuArrays for older Julia versions\n",
        "JULIA_NUM_THREADS=2\n",
        "#---------------------------------------------------#\n",
        "\n",
        "if [ -z `which julia` ]; then\n",
        "  # Install Julia\n",
        "  JULIA_VER=`cut -d '.' -f -2 <<< \"$JULIA_VERSION\"`\n",
        "  echo \"Installing Julia $JULIA_VERSION on the current Colab Runtime...\"\n",
        "  BASE_URL=\"https://julialang-s3.julialang.org/bin/linux/x64\"\n",
        "  URL=\"$BASE_URL/$JULIA_VER/julia-$JULIA_VERSION-linux-x86_64.tar.gz\"\n",
        "  wget -nv $URL -O /tmp/julia.tar.gz # -nv means \"not verbose\"\n",
        "  tar -x -f /tmp/julia.tar.gz -C /usr/local --strip-components 1\n",
        "  rm /tmp/julia.tar.gz\n",
        "\n",
        "  # Install Packages\n",
        "  nvidia-smi -L &> /dev/null && export GPU=1 || export GPU=0\n",
        "  if [ $GPU -eq 1 ]; then\n",
        "    JULIA_PACKAGES=\"$JULIA_PACKAGES $JULIA_PACKAGES_IF_GPU\"\n",
        "  fi\n",
        "  for PKG in `echo $JULIA_PACKAGES`; do\n",
        "    echo \"Installing Julia package $PKG...\"\n",
        "    julia -e 'using Pkg; pkg\"add '$PKG'; precompile;\"' &> /dev/null\n",
        "  done\n",
        "\n",
        "  # Install kernel and rename it to \"julia\"\n",
        "  echo \"Installing IJulia kernel...\"\n",
        "  julia -e 'using IJulia; IJulia.installkernel(\"julia\", env=Dict(\n",
        "      \"JULIA_NUM_THREADS\"=>\"'\"$JULIA_NUM_THREADS\"'\"))'\n",
        "  KERNEL_DIR=`julia -e \"using IJulia; print(IJulia.kerneldir())\"`\n",
        "  KERNEL_NAME=`ls -d \"$KERNEL_DIR\"/julia*`\n",
        "  mv -f $KERNEL_NAME \"$KERNEL_DIR\"/julia\n",
        "\n",
        "  echo ''\n",
        "  echo \"Successfully installed `julia -v`!\"\n",
        "fi"
      ]
    },
    {
      "cell_type": "markdown",
      "metadata": {
        "id": "Cc_8SuoJpeA5"
      },
      "source": [
        "### System info"
      ]
    },
    {
      "cell_type": "code",
      "execution_count": null,
      "metadata": {
        "id": "EEzvvzCl1i0F"
      },
      "outputs": [],
      "source": [
        "versioninfo()"
      ]
    },
    {
      "cell_type": "markdown",
      "metadata": {
        "id": "--Oph6F1C9hG"
      },
      "source": [
        "Clone/Update repository"
      ]
    },
    {
      "cell_type": "code",
      "execution_count": null,
      "metadata": {
        "id": "x7ww1eMAC9Nf"
      },
      "outputs": [],
      "source": [
        "using LibGit2\n",
        "rm(\"./QuickTO\"; force = true, recursive = true)\n",
        "repo = LibGit2.clone(\"https://github.com/LucasMSpereira/QuickTO\", \"./QuickTO\"; branch = \"colab\")\n",
        "println(\"Current commit: \", LibGit2.head(\"./QuickTO\")[1:8])"
      ]
    },
    {
      "cell_type": "markdown",
      "metadata": {
        "id": "ncrmpEFwiIho"
      },
      "source": [
        "### Definitions and packages\n",
        "(~30min)"
      ]
    },
    {
      "cell_type": "code",
      "execution_count": null,
      "metadata": {
        "id": "iYPSX2AFiIcf"
      },
      "outputs": [],
      "source": [
        "const runningInColab = true\n",
        "# Boolean indicating if packages are already installed. If the\n",
        "# runtime has recently been (re)started, they aren't.\n",
        "packagesInstalled::Bool = false\n",
        "include(\"./QuickTO/utilsColab.jl\")"
      ]
    },
    {
      "cell_type": "markdown",
      "source": [
        "Parameters"
      ],
      "metadata": {
        "id": "cYF26sXxwSJG"
      }
    },
    {
      "cell_type": "code",
      "source": [
        "const batchSize = 64\n",
        "const normalizeDataset = false # choose to normalize data in [-1; 1]\n",
        "const startTime = timeNow()\n",
        "const percentageDataset = 0.01 # fraction of dataset to be used\n",
        "const wasserstein = true; # use wasserstein loss"
      ],
      "metadata": {
        "id": "ASmM5_0jwTlk"
      },
      "execution_count": null,
      "outputs": []
    },
    {
      "cell_type": "markdown",
      "source": [
        "**Estimate time** needed to finish training, validating, and testing. This varies with hardware, and supposes GPU usage. Without GPU access, training takes significantly (~6x) longer. The inputs are:\n",
        "\n",
        "1.   Number of training epochs.\n",
        "2.   Percentage of dataset used.\n",
        "3.   Number of training epochs between validations.\n",
        "\n",
        "After all training and validation epochs, a test epoch is done."
      ],
      "metadata": {
        "id": "8MZIBQj1wepG"
      }
    },
    {
      "cell_type": "code",
      "source": [
        "trainStats(3, percentageDataset, 1)"
      ],
      "metadata": {
        "id": "6ZxY6PqOmlW4"
      },
      "execution_count": null,
      "outputs": []
    },
    {
      "cell_type": "markdown",
      "metadata": {
        "id": "JtME4OxY1MqV"
      },
      "source": [
        "### Main script"
      ]
    },
    {
      "cell_type": "code",
      "execution_count": null,
      "metadata": {
        "id": "auUqs6sg1Mj5"
      },
      "outputs": [],
      "source": [
        "GC.gc() # garbage collector\n",
        "\n",
        "# Start straining with specific configuration. After a certain number of training\n",
        "# epochs, a validation epoch is done. After all training and validation, a test\n",
        "# epoch is performed. Model checkpoints are occasionally saved. The final models\n",
        "# are saved as well.\n",
        "@time expMetaData = trainGANs(;\n",
        "  ## Choose optimizers for generator and discriminator.\n",
        "  genOpt_ = Flux.Optimise.AdamW(1e-4),\n",
        "  discOpt_ = Flux.Optimiser(Flux.ClipNorm(1.0), Flux.Optimise.AdamW(1e-4)),\n",
        "  ## (optional) If not training from scratch, uncomment lines of next 4\n",
        "  ## keyword arguments, and provide names of pre-trained models, alongside\n",
        "  ## the paths to the metadata file and the original folder of the model.\n",
        "  # genName_ = \"01-30T13-49-30-3gen.bson\",\n",
        "  # discName_ = \"01-30T13-50-04-3disc.bson\",\n",
        "  # metaDataName = projPath * \"networks/GANplots/01-29T09-45-03-Bvp4/01-29T20-07-39metaData.txt\",\n",
        "  # originalFolder = projPath * \"networks/GANplots/01-29T09-45-03-Bvp4/\",\n",
        "  ## Determine architectures to be used for each network. Their definitions\n",
        "  ## are in \"./QuickTO/utilities/ML utils/architectures.jl\".\n",
        "  architectures = (\n",
        "    convNextModel(96, [3, 3, 9, 3], 0.5),\n",
        "    # convNextModel(128, [3, 3, 27, 3], 0.5),\n",
        "    # convNextModel(192, [3, 3, 27, 3], 0.5),\n",
        "    # U_SE_ResNetGenerator(),\n",
        "    # patchGANdisc()\n",
        "    topologyGANdisc()\n",
        "  ),\n",
        "  ## Define training configurations, only total number of epochs,\n",
        "  ## and validation interval are required. Definition is\n",
        "  ## in ./QuickTO/utilities/typeDefinitions.jl\n",
        "  trainConfig = epochTrainConfig(3, 1)\n",
        "  # trainConfig = earlyStopTrainConfig(\n",
        "  #   1; earlyStopQuant = 2, earlyStopPercent = 5\n",
        "  # )\n",
        ")\n",
        "saveGANs(expMetaData, 0; finalSave = true) # save final models\n",
        "switchTraining(expMetaData, false)"
      ]
    }
  ],
  "metadata": {
    "accelerator": "GPU",
    "colab": {
      "provenance": [],
      "toc_visible": true
    },
    "gpuClass": "standard",
    "kernelspec": {
      "display_name": "Julia",
      "language": "julia",
      "name": "julia"
    },
    "language_info": {
      "file_extension": ".jl",
      "mimetype": "application/julia",
      "name": "julia"
    }
  },
  "nbformat": 4,
  "nbformat_minor": 0
}